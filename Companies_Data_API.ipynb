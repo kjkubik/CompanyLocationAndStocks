{
 "cells": [
  {
   "cell_type": "code",
   "execution_count": 1,
   "id": "9aa79e7b",
   "metadata": {
    "scrolled": true
   },
   "outputs": [],
   "source": [
    "import requests\n",
    "\n",
    "url = \"https://companies-datas.p.rapidapi.com/api/v1/piloterr/domain\"\n",
    "\n",
    "querystring = {\"url\":\"microsoft.com\"}\n",
    "\n",
    "headers = {\n",
    "    'x-rapidapi-host': \"companies-datas.p.rapidapi.com\",\n",
    "    'x-rapidapi-key': \"6089a5a035mshe25d894b9027095p18ee63jsn4aeaa3a5dcff\"\n",
    "    }\n",
    "\n",
    "response = requests.request(\"GET\", url, headers=headers, params=querystring)\n",
    "\n",
    "print(response.text)"
   ]
  },
  {
   "cell_type": "code",
   "execution_count": 2,
   "id": "7d7e0eb2",
   "metadata": {},
   "outputs": [],
   "source": [
    "import bs4 as bs\n",
    "import datetime\n",
    "import numpy\n",
    "import requests\n",
    "import time"
   ]
  },
  {
   "cell_type": "code",
   "execution_count": 3,
   "id": "406d1ed6",
   "metadata": {
    "scrolled": true
   },
   "outputs": [],
   "source": [
    "# response.json()"
   ]
  },
  {
   "cell_type": "code",
   "execution_count": 4,
   "id": "5611d8c8",
   "metadata": {},
   "outputs": [],
   "source": [
    "# response.json()['data']['revenue']"
   ]
  },
  {
   "cell_type": "code",
   "execution_count": 12,
   "id": "add75cd2",
   "metadata": {
    "scrolled": true
   },
   "outputs": [
    {
     "data": {
      "text/html": [
       "<div>\n",
       "<style scoped>\n",
       "    .dataframe tbody tr th:only-of-type {\n",
       "        vertical-align: middle;\n",
       "    }\n",
       "\n",
       "    .dataframe tbody tr th {\n",
       "        vertical-align: top;\n",
       "    }\n",
       "\n",
       "    .dataframe thead th {\n",
       "        text-align: right;\n",
       "    }\n",
       "</style>\n",
       "<table border=\"1\" class=\"dataframe\">\n",
       "  <thead>\n",
       "    <tr style=\"text-align: right;\">\n",
       "      <th></th>\n",
       "      <th>URL</th>\n",
       "    </tr>\n",
       "  </thead>\n",
       "  <tbody>\n",
       "    <tr>\n",
       "      <th>0</th>\n",
       "      <td>{\"url\":amd.com}</td>\n",
       "    </tr>\n",
       "    <tr>\n",
       "      <th>1</th>\n",
       "      <td>{\"url\":adobe.com}</td>\n",
       "    </tr>\n",
       "    <tr>\n",
       "      <th>2</th>\n",
       "      <td>{\"url\":airbnb.com}</td>\n",
       "    </tr>\n",
       "    <tr>\n",
       "      <th>3</th>\n",
       "      <td>{\"url\":aligntech.com}</td>\n",
       "    </tr>\n",
       "    <tr>\n",
       "      <th>4</th>\n",
       "      <td>{\"url\":amazon.com}</td>\n",
       "    </tr>\n",
       "    <tr>\n",
       "      <th>5</th>\n",
       "      <td>{\"url\":amgen.com}</td>\n",
       "    </tr>\n",
       "    <tr>\n",
       "      <th>6</th>\n",
       "      <td>{\"url\":aep.com}</td>\n",
       "    </tr>\n",
       "    <tr>\n",
       "      <th>7</th>\n",
       "      <td>{\"url\":analog.com}</td>\n",
       "    </tr>\n",
       "    <tr>\n",
       "      <th>8</th>\n",
       "      <td>{\"url\":ansys.com}</td>\n",
       "    </tr>\n",
       "    <tr>\n",
       "      <th>9</th>\n",
       "      <td>{\"url\":apple.com}</td>\n",
       "    </tr>\n",
       "    <tr>\n",
       "      <th>10</th>\n",
       "      <td>{\"url\":appliedmaterials.com}</td>\n",
       "    </tr>\n",
       "    <tr>\n",
       "      <th>11</th>\n",
       "      <td>{\"url\":asml.com}</td>\n",
       "    </tr>\n",
       "    <tr>\n",
       "      <th>12</th>\n",
       "      <td>{\"url\":atlassian.com}</td>\n",
       "    </tr>\n",
       "    <tr>\n",
       "      <th>13</th>\n",
       "      <td>{\"url\":autodesk.com}</td>\n",
       "    </tr>\n",
       "    <tr>\n",
       "      <th>14</th>\n",
       "      <td>{\"url\":activisionblizzard.com}</td>\n",
       "    </tr>\n",
       "    <tr>\n",
       "      <th>15</th>\n",
       "      <td>{\"url\":adp.com}</td>\n",
       "    </tr>\n",
       "    <tr>\n",
       "      <th>16</th>\n",
       "      <td>{\"url\":astrazeneca.com}</td>\n",
       "    </tr>\n",
       "    <tr>\n",
       "      <th>17</th>\n",
       "      <td>{\"url\":broadcom.com}</td>\n",
       "    </tr>\n",
       "    <tr>\n",
       "      <th>18</th>\n",
       "      <td>{\"url\":ir.baidu.com}</td>\n",
       "    </tr>\n",
       "    <tr>\n",
       "      <th>19</th>\n",
       "      <td>{\"url\":biogen.com}</td>\n",
       "    </tr>\n",
       "  </tbody>\n",
       "</table>\n",
       "</div>"
      ],
      "text/plain": [
       "                               URL\n",
       "0                  {\"url\":amd.com}\n",
       "1                {\"url\":adobe.com}\n",
       "2               {\"url\":airbnb.com}\n",
       "3            {\"url\":aligntech.com}\n",
       "4               {\"url\":amazon.com}\n",
       "5                {\"url\":amgen.com}\n",
       "6                  {\"url\":aep.com}\n",
       "7               {\"url\":analog.com}\n",
       "8                {\"url\":ansys.com}\n",
       "9                {\"url\":apple.com}\n",
       "10    {\"url\":appliedmaterials.com}\n",
       "11                {\"url\":asml.com}\n",
       "12           {\"url\":atlassian.com}\n",
       "13            {\"url\":autodesk.com}\n",
       "14  {\"url\":activisionblizzard.com}\n",
       "15                 {\"url\":adp.com}\n",
       "16         {\"url\":astrazeneca.com}\n",
       "17            {\"url\":broadcom.com}\n",
       "18            {\"url\":ir.baidu.com}\n",
       "19              {\"url\":biogen.com}"
      ]
     },
     "execution_count": 12,
     "metadata": {},
     "output_type": "execute_result"
    }
   ],
   "source": [
    "import pandas as pd\n",
    "company_list1 = pd.read_csv(\"complist.csv\")\n",
    "company_list1.head(20)"
   ]
  },
  {
   "cell_type": "code",
   "execution_count": 13,
   "id": "9b2a6df6",
   "metadata": {
    "scrolled": true
   },
   "outputs": [],
   "source": [
    "#company_list = pd.DataFrame(company_list1)\n",
    "#company_list.head()"
   ]
  },
  {
   "cell_type": "code",
   "execution_count": 14,
   "id": "c649d7f7",
   "metadata": {},
   "outputs": [
    {
     "data": {
      "text/plain": [
       "38"
      ]
     },
     "execution_count": 14,
     "metadata": {},
     "output_type": "execute_result"
    }
   ],
   "source": [
    "# open file once\n",
    "output = open(f\"resources/StockPrices.csv\", \"w\")\n",
    "# write header record once\n",
    "record = f\"url, address, revenue, employee_count\\n\"\n",
    "output.write(record)"
   ]
  },
  {
   "cell_type": "code",
   "execution_count": 15,
   "id": "740e0daa",
   "metadata": {},
   "outputs": [],
   "source": [
    "record_count = 0"
   ]
  },
  {
   "cell_type": "code",
   "execution_count": null,
   "id": "13854d57",
   "metadata": {
    "scrolled": false
   },
   "outputs": [],
   "source": [
    "for record, row in company_list1.iterrows():\n",
    "    time.sleep(5)\n",
    "    record_count = record_count + 1 \n",
    "    #stock = row['ticker']\n",
    "    #print(querystring)\n",
    "    \n",
    "    url = \"https://companies-datas.p.rapidapi.com/api/v1/piloterr/domain\"\n",
    "\n",
    "    querystring = row['URL']\n",
    "\n",
    "    headers = {\n",
    "    'x-rapidapi-host': \"companies-datas.p.rapidapi.com\",\n",
    "    'x-rapidapi-key': \"6089a5a035mshe25d894b9027095p18ee63jsn4aeaa3a5dcff\"\n",
    "    }\n",
    "    \n",
    "    if record_count <= 3:\n",
    "        response = requests.request(\"GET\", url, headers=headers, params=querystring)\n",
    "#         print(f\"revenue:{querystring} is {response.json()['data']['revenue']}\")\n",
    "#         print(f\"revenue:{querystring} is {response.json()['data']['size']}\")\n",
    "        print(response)\n",
    "#     else:s\n",
    "#             record_count = 1\n",
    "#             #print(f\"Just changed count to 1 ({record_count}), waiting for a DAY (or get charged).\")\n",
    "#             time.sleep(1440) # Sleep for A DAY\n",
    "#             #print(f\"okay, going to find ticker: {row['url']}\\n\")\n",
    "#             response = requests.request(\"GET\", url, headers=headers, params=row['url'])\n",
    "#             print(response.text)\n"
   ]
  },
  {
   "cell_type": "code",
   "execution_count": null,
   "id": "29f5aaf3",
   "metadata": {},
   "outputs": [],
   "source": []
  }
 ],
 "metadata": {
  "kernelspec": {
   "display_name": "Python 3 (ipykernel)",
   "language": "python",
   "name": "python3"
  },
  "language_info": {
   "codemirror_mode": {
    "name": "ipython",
    "version": 3
   },
   "file_extension": ".py",
   "mimetype": "text/x-python",
   "name": "python",
   "nbconvert_exporter": "python",
   "pygments_lexer": "ipython3",
   "version": "3.8.8"
  }
 },
 "nbformat": 4,
 "nbformat_minor": 5
}
